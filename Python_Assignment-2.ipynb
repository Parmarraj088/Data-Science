{
 "cells": [
  {
   "cell_type": "markdown",
   "id": "8d7ab3bd",
   "metadata": {},
   "source": [
    "# Python Assignment - 2\n",
    "### Total - 30 marks"
   ]
  },
  {
   "cell_type": "markdown",
   "id": "6984940a",
   "metadata": {},
   "source": [
    "#### 1. Create a list of student and their subjects and then print the count of the subjects each student is having."
   ]
  },
  {
   "cell_type": "markdown",
   "id": "2167cbb2",
   "metadata": {},
   "source": [
    "Ex: List should be of the this format \n",
    " [('Justin', ['Math', 'CompSci']),\n",
    " ('Eden', ['CompSci', 'Accounting', 'Economics'])]\n",
    " \n",
    " and the output be like,\n",
    " \n",
    "Justin takes 2 subjects\n",
    "Eden takes 3 subjects"
   ]
  },
  {
   "cell_type": "code",
   "execution_count": 4,
   "id": "c7115c59",
   "metadata": {},
   "outputs": [
    {
     "name": "stdout",
     "output_type": "stream",
     "text": [
      "raj 2\n",
      "arjun 3\n",
      "varun 4\n"
     ]
    }
   ],
   "source": [
    "students = [('raj',['maths','science']),('arjun',['history','geography','maths' ]),('varun',['hindi','marathi','science','maths'])]\n",
    "for student in students:\n",
    "    print(student[0],len(student[1]))"
   ]
  },
  {
   "cell_type": "markdown",
   "id": "44bb9ea8",
   "metadata": {},
   "source": [
    "#### 2. Count the total number of digits in a number (ex: A mobile number)"
   ]
  },
  {
   "cell_type": "markdown",
   "id": "1d2ab3cb",
   "metadata": {},
   "source": [
    "Ex:\n",
    "number be like some random mobile number,\n",
    "\n",
    "9848000000\n",
    "\n",
    "the count of the this should be 10"
   ]
  },
  {
   "cell_type": "code",
   "execution_count": 1,
   "id": "747e9a6d",
   "metadata": {},
   "outputs": [
    {
     "name": "stdout",
     "output_type": "stream",
     "text": [
      "10\n"
     ]
    }
   ],
   "source": [
    "def count_digits(number): \n",
    "\tcount = 0\n",
    "\twhile (number > 0): \n",
    "\t\tnumber = number // 10\n",
    "\t\tcount = count + 1\n",
    "\treturn count\n",
    "\n",
    "number = 1234567890 \n",
    "print(count_digits(number))"
   ]
  },
  {
   "cell_type": "markdown",
   "id": "3502e833",
   "metadata": {},
   "source": [
    "#### 3. Create a for loop that prompts the user for a skill 3 times, then print the appended skills."
   ]
  },
  {
   "cell_type": "code",
   "execution_count": null,
   "id": "dd835b29",
   "metadata": {},
   "outputs": [],
   "source": [
    "skills = []\n",
    "for i in range(3):\n",
    "    skill = input(\"Python : Java : C++\")\n",
    "    skills.append(skill)\n",
    "print(\"Your skills are:\", skills)"
   ]
  },
  {
   "cell_type": "markdown",
   "id": "309395ff",
   "metadata": {},
   "source": [
    "#### 4. Define your commercial computation program with hourly rate for usual timings and extra for overtime. Create a function called commercials_calculator which takes two parameters (hours and rate).\n",
    "\n",
    "Enter Hours: 45\n",
    "\n",
    "Enter Rate: 10\n",
    "\n",
    "Pay: 475.0"
   ]
  },
  {
   "cell_type": "code",
   "execution_count": 60,
   "id": "a1b2098f",
   "metadata": {},
   "outputs": [],
   "source": [
    "def commercials_calculator(hours, rate):\n",
    "  \"\"\"Calculates the total cost of a commercial shoot.\n",
    "  Args:\n",
    "    hours: The number of hours the program will take.\n",
    "    rate: The hourly rate of the tutor.\n",
    "  Returns:\n",
    "    The total cost of the shoot.\n",
    "  \"\"\"\n",
    "  # Check if the hours and rate are valid.\n",
    "  if hours < 0 or rate < 0:\n",
    "    raise ValueError(\"Hours and rate must be non-negative.\")\n",
    "  # Calculate the total cost of the programr.\n",
    "  total_cost = hours * rate\n",
    "  # Add an overtime charge if the shoot is longer than 40 hours.\n",
    "  if hours > 40:\n",
    "    overtime_hours = hours - 40\n",
    "    overtime_rate = rate - 5\n",
    "    overtime_cost = overtime_hours * overtime_rate\n",
    "    total_cost += overtime_cost\n",
    "  return total_cost"
   ]
  },
  {
   "cell_type": "code",
   "execution_count": 61,
   "id": "48928dc7",
   "metadata": {},
   "outputs": [
    {
     "name": "stdout",
     "output_type": "stream",
     "text": [
      "Pay for computation_program is: 475\n"
     ]
    }
   ],
   "source": [
    "Program = commercials_calculator(45, 10)\n",
    "print(\"Pay for computation_program is:\", Program)"
   ]
  },
  {
   "cell_type": "code",
   "execution_count": null,
   "id": "920e8668",
   "metadata": {},
   "outputs": [],
   "source": []
  }
 ],
 "metadata": {
  "kernelspec": {
   "display_name": "Python 3 (ipykernel)",
   "language": "python",
   "name": "python3"
  },
  "language_info": {
   "codemirror_mode": {
    "name": "ipython",
    "version": 3
   },
   "file_extension": ".py",
   "mimetype": "text/x-python",
   "name": "python",
   "nbconvert_exporter": "python",
   "pygments_lexer": "ipython3",
   "version": "3.11.4"
  }
 },
 "nbformat": 4,
 "nbformat_minor": 5
}
